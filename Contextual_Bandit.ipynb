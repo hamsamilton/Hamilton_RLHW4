{
 "cells": [
  {
   "cell_type": "code",
   "execution_count": 5,
   "metadata": {},
   "outputs": [],
   "source": [
    "import numpy as np\n",
    "\n",
    "\n",
    "def sample_jester_data(file_name, context_dim = 32, num_actions = 8, num_contexts = 19181,\n",
    "                       shuffle_rows=True, shuffle_cols=False):\n",
    "    \"\"\"Samples bandit game from (user, joke) dense subset of Jester dataset.\n",
    "    Args:\n",
    "        file_name: Route of file containing the modified Jester dataset.\n",
    "        context_dim: Context dimension (i.e. vector with some ratings from a user).\n",
    "        num_actions: Number of actions (number of joke ratings to predict).\n",
    "        num_contexts: Number of contexts to sample.\n",
    "        shuffle_rows: If True, rows from original dataset are shuffled.\n",
    "        shuffle_cols: Whether or not context/action jokes are randomly shuffled.\n",
    "    Returns:\n",
    "        dataset: Sampled matrix with rows: (context, rating_1, ..., rating_k).\n",
    "        opt_vals: Vector of deterministic optimal (reward, action) for each context.\n",
    "        \"\"\"\n",
    "    np.random.seed(0)\n",
    "    dataset = np.load(file_name,)\n",
    "        \n",
    "    if shuffle_cols:\n",
    "        dataset = dataset[:, np.random.permutation(dataset.shape[1])]\n",
    "    \n",
    "    if shuffle_rows:\n",
    "        np.random.shuffle(dataset)\n",
    "    \n",
    "    # Get train data and rewards for last actions \n",
    "    dataset = dataset[:num_contexts,:] # Number of rows up to 18000\n",
    "    full_rewards = dataset[:, context_dim:]\n",
    "    \n",
    "    #Get test data, and optimal actions and rewards so that regret can be calculated\n",
    "    opt_actions = np.argmax(dataset[:, context_dim:], axis = 1)\n",
    "    opt_rewards = np.array([dataset[i, context_dim + a] for i, a in enumerate(opt_actions)])\n",
    "    \n",
    "    return dataset,full_rewards, opt_rewards, opt_actions, "
   ]
  },
  {
   "cell_type": "markdown",
   "metadata": {},
   "source": [
    "Given data D_a and y_a, the ridge regression coefficients can be calculated by:\n",
    "\n",
    "theta = inverse(D_a'D_a+ I)D_a`y_a where I is identity matrix\n",
    "\n",
    " we have a linear disjoin UCB model that given each arm (action) a, we have a linear regression\n",
    " model fo it which predicts the reward given the context, for discrete trials 1...t,..\n",
    "\n",
    "E[reward_{a, t} x_{t,a}] = x{a, t} * theta_a\n",
    "\n",
    "Where x_{t_a}* \\hat{theta}_a+ alpha* sqrt(x_{t,a}inv(A_a)x_{t,a}) where A_a = D_a'D_a+I\n",
    "\n",
    "This term comes from the UCB model and the predictive variance of expected payoff for ridge regression\n",
    "\n"
   ]
  },
  {
   "cell_type": "code",
   "execution_count": 6,
   "metadata": {},
   "outputs": [],
   "source": [
    "n = 19181 # number of data points\n",
    "k= 32 # Number of features\n",
    "n_a = 8 #Number of actions (Last 8 jokes\n",
    "\n",
    "D, rwrds, opt_rewards, opt_actions = sample_jester_data(file_name = \"jester_data_40jokes_19181users.npy\",\n",
    "                                                      context_dim = k, num_actions = n_a, num_contexts = 19181)\n",
    "\n",
    "D = D[:,:k] #subset to first 32 jokes\n",
    "D_ = np.random.random( (n,k)) -.5\n",
    "th = np.random.random((n_a,k)) -.5\n",
    "\n",
    "choices = np.zeros(n) \n",
    "rewards = np.zeros(n) \n",
    "b       =np.zeros_like(th)\n",
    "A       =np.zeros( (n_a, k,k) ) # For each action we will have a k by k matrix\n",
    "for a in range(0,n_a):\n",
    "    A[a]=np.identity(k)\n",
    "th_hat  =np.zeros( (n_a,k) ) # Our temporary feature vecotrs of our best current guesses\n",
    "p       =np.zeros(n_a)\n",
    "alph    =.2\n",
    "\n",
    "#UCB. using a disjoint model\n",
    "for i in range(0,18000): # First 18000 jokes\n",
    "    \n",
    "    x_i = D[i] # current context vector\n",
    "    \n",
    "    for a in range(0,n_a):\n",
    "        A_inv     = np.linalg.inv(A[a])        # We use this twice to cache it\n",
    "        th_hat[a] = A_inv.dot(b[a])\n",
    "        ta        = x_i.dot(A_inv).dot(x_i)    # How informative is this?\n",
    "        a_upper_ci= alph * np.sqrt(ta)         # Upper part of variance interval\n",
    "        a_mean    = th_hat[a].dot(x_i)         # current estimate of mean\n",
    "        p[a]      = a_mean + a_upper_ci        # top CI\n",
    "    \n",
    "    p = p + (np.random.random(len(p)) * .00000001) # Add small amount of random noise to break ties\n",
    "    choices[i] = p.argmax()    # choose the highest\n",
    "    \n",
    "    # See what reward we get\n",
    "    \n",
    "    rewards[i] =  rwrds[i,int(choices[i])] # look at reward\n",
    "    \n",
    "    #update the input vector\n",
    "    A[int(choices[i])]      += np.outer(x_i,x_i)\n",
    "    b[int(choices[i])]      += rewards[i] * x_i\n",
    "    \n",
    "    \n",
    "    \n",
    "    \n",
    "    \n",
    "    \n",
    "    \n",
    "    \n",
    "    "
   ]
  },
  {
   "cell_type": "code",
   "execution_count": 7,
   "metadata": {},
   "outputs": [],
   "source": [
    "#UCB. using a disjoint model\n",
    "\n",
    "#init regret\n",
    "regret= []\n",
    "for i in range(18001,19181): # Last jokes to test\n",
    "    \n",
    "    x_i = D[i] # current context vector\n",
    "    \n",
    "    for a in range(0,n_a):\n",
    "        A_inv     = np.linalg.inv(A[a])        # We use this twice to cache it\n",
    "        th_hat[a] = A_inv.dot(b[a])\n",
    "        ta        = x_i.dot(A_inv).dot(x_i)    # How informative is this?\n",
    "        a_upper_ci= alph * np.sqrt(ta)         # Upper part of variance interval\n",
    "        a_mean    = th_hat[a].dot(x_i)         # current estimate of mean\n",
    "        p[a]      = a_mean + a_upper_ci        # top CI\n",
    "    \n",
    "    p = p + (np.random.random(len(p)) * .00000001) # Add small amount of random noise to break ties\n",
    "    choices[i] = p.argmax()    # choose the highest\n",
    "    \n",
    "    # See what reward we get\n",
    "    \n",
    "    rewards[i] =  rwrds[i,int(choices[i])] # look at reward\n",
    "    \n",
    "    # calculate regret\n",
    "    regret.append(opt_rewards[i] - rewards[i])\n",
    "    "
   ]
  },
  {
   "cell_type": "code",
   "execution_count": 8,
   "metadata": {},
   "outputs": [
    {
     "data": {
      "text/plain": [
       "[<matplotlib.lines.Line2D at 0x2b14f30ea390>]"
      ]
     },
     "execution_count": 8,
     "metadata": {},
     "output_type": "execute_result"
    },
    {
     "data": {
      "image/png": "[encoded data removed]",
      "text/plain": [
       "<Figure size 432x288 with 1 Axes>"
      ]
     },
     "metadata": {
      "needs_background": "light"
     },
     "output_type": "display_data"
    }
   ],
   "source": [
    "import matplotlib.pyplot as plt\n",
    "plt.plot(regret)"
   ]
  },
  {
   "cell_type": "code",
   "execution_count": 14,
   "metadata": {},
   "outputs": [],
   "source": [
    "acc_regret = []\n",
    "acc_regret.append(0)\n",
    "for i in range(1,len(regret)):\n",
    "    acc_regret.append(acc_regret[i - 1] + regret[i])"
   ]
  },
  {
   "cell_type": "code",
   "execution_count": 15,
   "metadata": {},
   "outputs": [
    {
     "data": {
      "text/plain": [
       "[<matplotlib.lines.Line2D at 0x2b14f355df98>]"
      ]
     },
     "execution_count": 15,
     "metadata": {},
     "output_type": "execute_result"
    },
    {
     "data": {
      "image/png": "[encoded data removed]",
      "text/plain": [
       "<Figure size 432x288 with 1 Axes>"
      ]
     },
     "metadata": {
      "needs_background": "light"
     },
     "output_type": "display_data"
    }
   ],
   "source": [
    "plt.plot(acc_regret)"
   ]
  },
  {
   "cell_type": "code",
   "execution_count": null,
   "metadata": {},
   "outputs": [],
   "source": []
  }
 ],
 "metadata": {
  "kernelspec": {
   "display_name": "Python 3",
   "language": "python",
   "name": "python3"
  },
  "language_info": {
   "codemirror_mode": {
    "name": "ipython",
    "version": 3
   },
   "file_extension": ".py",
   "mimetype": "text/x-python",
   "name": "python",
   "nbconvert_exporter": "python",
   "pygments_lexer": "ipython3",
   "version": "3.7.1"
  }
 },
 "nbformat": 4,
 "nbformat_minor": 2
}
